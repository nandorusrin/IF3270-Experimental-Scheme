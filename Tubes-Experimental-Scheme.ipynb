{
 "cells": [
  {
   "cell_type": "code",
   "execution_count": 16,
   "metadata": {},
   "outputs": [],
   "source": [
    "import matplotlib.pyplot as plt\n",
    "from sklearn import datasets\n",
    "from sklearn import tree\n",
    "from sklearn import neural_network\n",
    "from sklearn.tree import export_text\n",
    "from id3 import Id3Estimator\n",
    "from id3 import export_text as id3export_text\n",
    "\n",
    "from sklearn.model_selection import train_test_split"
   ]
  },
  {
   "cell_type": "code",
   "execution_count": 12,
   "metadata": {},
   "outputs": [
    {
     "name": "stdout",
     "output_type": "stream",
     "text": [
      "['setosa' 'versicolor' 'virginica']\n"
     ]
    }
   ],
   "source": [
    "# Iris\n",
    "# iris Features: [Sepal Length, Sepal Width, Petal Length, Petal Width]\n",
    "# iris target: {Setosa, Versicolour, Virginica}\n",
    "iris = datasets.load_iris()\n",
    "iris_X = iris.data\n",
    "iris_y = iris.target\n",
    "print(iris.target_names)\n"
   ]
  },
  {
   "cell_type": "code",
   "execution_count": 14,
   "metadata": {},
   "outputs": [
    {
     "name": "stdout",
     "output_type": "stream",
     "text": [
      "Kinerja DTL dengan skema Split Train = 100.0 %\n"
     ]
    }
   ],
   "source": [
    "# DTL Skema Split Train\n",
    "# TODO: Confusion matrix\n",
    "dtl = tree.DecisionTreeClassifier()\n",
    "dtl_train_X, dtl_test_X, dtl_train_y, dtl_test_y = train_test_split(iris_X, iris_y, test_size=0.1, random_state=1)\n",
    "dtl = dtl.fit(dtl_train_X, dtl_train_y)\n",
    "\n",
    "# Kinerja\n",
    "print(\"Kinerja DTL dengan skema Split Train =\", dtl.score(dtl_test_X, dtl_test_y)*100, \"%\")"
   ]
  },
  {
   "cell_type": "code",
   "execution_count": null,
   "metadata": {},
   "outputs": [],
   "source": [
    "# DTL Skema 10-fold cross validation\n",
    "# Referensi: https://scikit-learn.org/stable/modules/generated/sklearn.model_selection.KFold.html\n"
   ]
  },
  {
   "cell_type": "code",
   "execution_count": 30,
   "metadata": {},
   "outputs": [
    {
     "name": "stdout",
     "output_type": "stream",
     "text": [
      "Kinerja ANN dengan skema Split Train = 100.0 %\n"
     ]
    }
   ],
   "source": [
    "# ANN Skema Split Train\n",
    "# TODO: Confusion Matrix\n",
    "mlp = neural_network.MLPClassifier(hidden_layer_sizes=(3, 2), max_iter=10000, random_state=3)\n",
    "dtl_train_X, dtl_test_X, dtl_train_y, dtl_test_y = train_test_split(iris_X, iris_y, test_size=0.1, random_state=1)\n",
    "mlp = mlp.fit(dtl_train_X, dtl_train_y)\n",
    "\n",
    "print(\"Kinerja ANN dengan skema Split Train =\", mlp.score(dtl_test_X, dtl_test_y)*100, \"%\")"
   ]
  },
  {
   "cell_type": "code",
   "execution_count": null,
   "metadata": {},
   "outputs": [],
   "source": [
    "# ANN Skema 10-fold cross validation\n",
    "# Referensi: https://scikit-learn.org/stable/modules/generated/sklearn.model_selection.KFold.html\n"
   ]
  },
  {
   "cell_type": "code",
   "execution_count": null,
   "metadata": {},
   "outputs": [],
   "source": [
    "# Export DTL Model"
   ]
  },
  {
   "cell_type": "code",
   "execution_count": null,
   "metadata": {},
   "outputs": [],
   "source": [
    "# Export ANN Model"
   ]
  },
  {
   "cell_type": "code",
   "execution_count": null,
   "metadata": {},
   "outputs": [],
   "source": [
    "#"
   ]
  }
 ],
 "metadata": {
  "kernelspec": {
   "display_name": "Python 3",
   "language": "python",
   "name": "python3"
  },
  "language_info": {
   "codemirror_mode": {
    "name": "ipython",
    "version": 3
   },
   "file_extension": ".py",
   "mimetype": "text/x-python",
   "name": "python",
   "nbconvert_exporter": "python",
   "pygments_lexer": "ipython3",
   "version": "3.6.9"
  }
 },
 "nbformat": 4,
 "nbformat_minor": 2
}
