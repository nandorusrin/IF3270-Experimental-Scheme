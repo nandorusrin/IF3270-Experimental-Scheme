{
 "cells": [
  {
   "cell_type": "code",
   "execution_count": 11,
   "metadata": {
    "scrolled": true
   },
   "outputs": [],
   "source": [
    "import matplotlib.pyplot as plt\n",
    "from sklearn import datasets\n",
    "from sklearn import tree\n",
    "from sklearn import neural_network\n",
    "from sklearn.tree import export_text\n",
    "from id3 import Id3Estimator\n",
    "from id3 import export_text as id3export_text\n",
    "import joblib\n",
    "\n",
    "from sklearn.model_selection import train_test_split"
   ]
  },
  {
   "cell_type": "code",
   "execution_count": 3,
   "metadata": {},
   "outputs": [
    {
     "name": "stdout",
     "output_type": "stream",
     "text": [
      "['setosa' 'versicolor' 'virginica']\n"
     ]
    }
   ],
   "source": [
    "# Iris\n",
    "# iris Features: [Sepal Length, Sepal Width, Petal Length, Petal Width]\n",
    "# iris target: {Setosa, Versicolour, Virginica}\n",
    "iris = datasets.load_iris()\n",
    "iris_X = iris.data\n",
    "iris_y = iris.target\n",
    "print(iris.target_names)\n"
   ]
  },
  {
   "cell_type": "code",
   "execution_count": 4,
   "metadata": {},
   "outputs": [
    {
     "name": "stdout",
     "output_type": "stream",
     "text": [
      "Kinerja DTL dengan skema Split Train = 100.0 %\n"
     ]
    }
   ],
   "source": [
    "# DTL Skema Split Train\n",
    "# TODO: Confusion matrix\n",
    "dtl = tree.DecisionTreeClassifier()\n",
    "dtl_train_X, dtl_test_X, dtl_train_y, dtl_test_y = train_test_split(iris_X, iris_y, test_size=0.1, random_state=1)\n",
    "dtl = dtl.fit(dtl_train_X, dtl_train_y)\n",
    "\n",
    "# Kinerja\n",
    "print(\"Kinerja DTL dengan skema Split Train =\", dtl.score(dtl_test_X, dtl_test_y)*100, \"%\")"
   ]
  },
  {
   "cell_type": "code",
   "execution_count": 5,
   "metadata": {},
   "outputs": [],
   "source": [
    "# DTL Skema 10-fold cross validation\n",
    "# Referensi: https://scikit-learn.org/stable/modules/generated/sklearn.model_selection.KFold.html\n"
   ]
  },
  {
   "cell_type": "code",
   "execution_count": 6,
   "metadata": {},
   "outputs": [
    {
     "name": "stdout",
     "output_type": "stream",
     "text": [
      "Kinerja ANN dengan skema Split Train = 100.0 %\n"
     ]
    }
   ],
   "source": [
    "# ANN Skema Split Train\n",
    "# TODO: Confusion Matrix\n",
    "mlp = neural_network.MLPClassifier(hidden_layer_sizes=(3, 2), max_iter=10000, random_state=3)\n",
    "dtl_train_X, dtl_test_X, dtl_train_y, dtl_test_y = train_test_split(iris_X, iris_y, test_size=0.1, random_state=1)\n",
    "mlp = mlp.fit(dtl_train_X, dtl_train_y)\n",
    "\n",
    "print(\"Kinerja ANN dengan skema Split Train =\", mlp.score(dtl_test_X, dtl_test_y)*100, \"%\")"
   ]
  },
  {
   "cell_type": "code",
   "execution_count": 7,
   "metadata": {},
   "outputs": [],
   "source": [
    "# ANN Skema 10-fold cross validation\n",
    "# Referensi: https://scikit-learn.org/stable/modules/generated/sklearn.model_selection.KFold.html\n"
   ]
  },
  {
   "cell_type": "code",
   "execution_count": 13,
   "metadata": {},
   "outputs": [
    {
     "name": "stdout",
     "output_type": "stream",
     "text": [
      "DecisionTreeClassifier(ccp_alpha=0.0, class_weight=None, criterion='gini',\n",
      "                       max_depth=None, max_features=None, max_leaf_nodes=None,\n",
      "                       min_impurity_decrease=0.0, min_impurity_split=None,\n",
      "                       min_samples_leaf=1, min_samples_split=2,\n",
      "                       min_weight_fraction_leaf=0.0, presort='deprecated',\n",
      "                       random_state=None, splitter='best')\n",
      "1.0\n"
     ]
    }
   ],
   "source": [
    "# Export DTL Model\n",
    "print(dtl)\n",
    "filename = 'finalized_model.sav'\n",
    "joblib.dump(dtl, filename)\n",
    "\n",
    "loaded_model = joblib.load(filename)\n",
    "result = loaded_model.score(dtl_test_X, dtl_test_y)\n",
    "print(result)"
   ]
  },
  {
   "cell_type": "code",
   "execution_count": 14,
   "metadata": {},
   "outputs": [
    {
     "name": "stdout",
     "output_type": "stream",
     "text": [
      "MLPClassifier(activation='relu', alpha=0.0001, batch_size='auto', beta_1=0.9,\n",
      "              beta_2=0.999, early_stopping=False, epsilon=1e-08,\n",
      "              hidden_layer_sizes=(3, 2), learning_rate='constant',\n",
      "              learning_rate_init=0.001, max_fun=15000, max_iter=10000,\n",
      "              momentum=0.9, n_iter_no_change=10, nesterovs_momentum=True,\n",
      "              power_t=0.5, random_state=3, shuffle=True, solver='adam',\n",
      "              tol=0.0001, validation_fraction=0.1, verbose=False,\n",
      "              warm_start=False)\n",
      "1.0\n"
     ]
    }
   ],
   "source": [
    "# Export ANN Model\n",
    "print(mlp)\n",
    "filename = 'finalized_mlp_model.sav'\n",
    "joblib.dump(mlp, filename)\n",
    "\n",
    "loaded_model = joblib.load(filename)\n",
    "result = loaded_model.score(dtl_test_X, dtl_test_y)\n",
    "print(result)"
   ]
  },
  {
   "cell_type": "code",
   "execution_count": 10,
   "metadata": {},
   "outputs": [],
   "source": [
    "#"
   ]
  }
 ],
 "metadata": {
  "kernelspec": {
   "display_name": "Python 3",
   "language": "python",
   "name": "python3"
  },
  "language_info": {
   "codemirror_mode": {
    "name": "ipython",
    "version": 3
   },
   "file_extension": ".py",
   "mimetype": "text/x-python",
   "name": "python",
   "nbconvert_exporter": "python",
   "pygments_lexer": "ipython3",
   "version": "3.7.2"
  }
 },
 "nbformat": 4,
 "nbformat_minor": 2
}
